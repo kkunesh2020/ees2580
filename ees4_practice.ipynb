{
  "cells": [
    {
      "cell_type": "markdown",
      "metadata": {},
      "source": [
        "# Python Lesson 4 Practice Assignment"
      ]
    },
    {
      "cell_type": "markdown",
      "metadata": {
        "id": "zN05IqpfJhj7"
      },
      "source": [
        "1. Create a list that contains the names of the days of the week. Using a `for` loop, print the days of the week.\n"
      ]
    },
    {
      "cell_type": "code",
      "execution_count": 1,
      "metadata": {},
      "outputs": [
        {
          "name": "stdout",
          "output_type": "stream",
          "text": [
            "Monday\n",
            "Tuesday\n",
            "Wednesday\n",
            "Thursday\n",
            "Friday\n",
            "Saturday\n",
            "Sunday\n"
          ]
        }
      ],
      "source": [
        "days = [\"Monday\", \"Tuesday\", \"Wednesday\", \"Thursday\", \"Friday\", \"Saturday\", \"Sunday\"]\n",
        "for day in days:\n",
        "    print(day)"
      ]
    },
    {
      "cell_type": "markdown",
      "metadata": {},
      "source": [
        "2. Using a `for` loop and the `.iterrows` method, print the month abbreviation and average temperature in Mesa for each month in 1879 together on the same line. (Remember that the month abbreviation is now the index for the row.) To make the output clearer, print a header explaining what the columns are before you print the values."
      ]
    },
    {
      "cell_type": "code",
      "execution_count": 11,
      "metadata": {},
      "outputs": [
        {
          "name": "stdout",
          "output_type": "stream",
          "text": [
            "month average temperature\n",
            "Jan 12.1\n",
            "Feb 10.1\n",
            "Mar 11.8\n",
            "Apr 19.2\n",
            "May 25.0\n",
            "Jun 28.1\n",
            "Jul 32.4\n",
            "Aug 32.2\n",
            "Sep 28.2\n",
            "Oct 19.5\n",
            "Nov 14.5\n",
            "Dec 8.7\n"
          ]
        }
      ],
      "source": [
        "import pandas as pd\n",
        "climate = pd.read_csv('https://github.com/HeardLibrary/digital-scholarship/raw/master/data/codegraf/mesa_climate.csv')\n",
        "climate = climate.set_index('month')\n",
        "\n",
        "print('month', 'average temperature')\n",
        "for label_index, climate_series in climate.iterrows():\n",
        "    print(label_index, climate_series['tavg'])\n"
      ]
    },
    {
      "cell_type": "markdown",
      "metadata": {},
      "source": [
        "3. **Calculating a mean using the procedural approach.** Create a variable called `sum` and set its value to zero. Create a `for` loop that steps through each month and adds the precipitation value for each month to the `sum` variable. Recall that\n",
        "\n",
        "```\n",
        "sum += number\n",
        "```\n",
        "\n",
        "is a shortcut for\n",
        "\n",
        "```\n",
        "sum = sum + number\n",
        "```\n",
        "\n",
        "After you add up all of the values, print the value of the average precipitation for all months of the year. (Don't worry about weighting the monthly values by the length of the month.)"
      ]
    },
    {
      "cell_type": "code",
      "execution_count": 14,
      "metadata": {},
      "outputs": [
        {
          "name": "stdout",
          "output_type": "stream",
          "text": [
            "average precipitation 19.041666666666668\n"
          ]
        }
      ],
      "source": [
        "sum = 0\n",
        "for label_index, climate_series in climate.iterrows():\n",
        "    sum += climate_series['ppt']\n",
        "\n",
        "print('average precipitation', sum/12)"
      ]
    },
    {
      "cell_type": "markdown",
      "metadata": {},
      "source": [
        "4. **Calculating a mean using the vectorized approach.** Because pandas is designed for vectorized operations, there is an easier way to find the average precipitation for all of the months. Simply append the `.mean()` method to the precipitation column of the DataFrame. (The mean method does not require any arguments.) Print the result. Is it the same as what you got using the `for` loop?"
      ]
    },
    {
      "cell_type": "code",
      "execution_count": 15,
      "metadata": {},
      "outputs": [
        {
          "name": "stdout",
          "output_type": "stream",
          "text": [
            "average precipitation 19.041666666666664\n"
          ]
        }
      ],
      "source": [
        "average = climate['ppt'].mean()\n",
        "print('average precipitation', average)"
      ]
    },
    {
      "cell_type": "markdown",
      "metadata": {
        "id": "BNdYqS4jmKae"
      },
      "source": [
        "5. Yale University has an awesome website known as \"Is it chicken tenders day?\".  The website is at <http://www.isitchickentendersday.com/> and you can read about it [here](https://yaledailynews.com/blog/2011/09/08/is-it-chicken-tenders-day-question-answered-in-new-website/).  Using the website, you can determine whether it is chicken tenders day (i.e. Thursday) in the Yale residential dining halls. The `date` object from the `datetime` module has a *method* that determines the day of the week as a number (0=Monday, 1=Tuesday, etc.).  It's `date.today().weekday()`. From the `datetime` module import the `date` object. Begin your script by printing the question \"Is it chicken tenders day?\". Then use `if` and `else` to print `yes` if it's chicken tenders day and`no` for any other day."
      ]
    },
    {
      "cell_type": "code",
      "execution_count": 16,
      "metadata": {
        "id": "2DkVQ9qyl7MM"
      },
      "outputs": [
        {
          "name": "stdout",
          "output_type": "stream",
          "text": [
            "Is it chicken tenders day?\n",
            "Yes\n"
          ]
        }
      ],
      "source": [
        "from datetime import date\n",
        "today = date.today().weekday()\n",
        "\n",
        "print('Is it chicken tenders day?')\n",
        "\n",
        "if today == 3:\n",
        "    print('Yes')\n",
        "else:\n",
        "    print('No')\n"
      ]
    },
    {
      "cell_type": "markdown",
      "metadata": {
        "id": "Vp8JnbYGmPqK"
      },
      "source": [
        "6. Create a list containing the names of the days of the week. Start with Monday and end with Sunday to match the numbering produced by the `.weekday()` method. Modify the program above by adding a line to tell the user what the day of the week is today. You can use the output of the `.weekday()` method as the index number when referring to your list."
      ]
    },
    {
      "cell_type": "code",
      "execution_count": 17,
      "metadata": {
        "id": "aXrJZenqmXBz"
      },
      "outputs": [
        {
          "name": "stdout",
          "output_type": "stream",
          "text": [
            "Is it chicken tenders day?\n",
            "Yes, today is Thursday\n"
          ]
        }
      ],
      "source": [
        "days = [\"Monday\", \"Tuesday\", \"Wednesday\", \"Thursday\", \"Friday\", \"Saturday\", \"Sunday\"]\n",
        "\n",
        "today = date.today().weekday()\n",
        "\n",
        "print('Is it chicken tenders day?')\n",
        "\n",
        "if today == 3:\n",
        "    print('Yes, today is', days[today])\n",
        "else:\n",
        "    print('No, today is ', days[today])"
      ]
    },
    {
      "cell_type": "markdown",
      "metadata": {
        "id": "Iom1IJr-RiC7"
      },
      "source": [
        "7. Use an input statement to let the user enter a number as a string. In a `try:` code block, convert the entered string to a floating point number using `float()`. Follow the conversion statement with a statement that prints the number. In the `except:` code block, print a warning to the user that they didn't enter a number."
      ]
    },
    {
      "cell_type": "code",
      "execution_count": 19,
      "metadata": {
        "id": "14lqPE_ARmeA"
      },
      "outputs": [
        {
          "name": "stdout",
          "output_type": "stream",
          "text": [
            "That is not a number\n"
          ]
        }
      ],
      "source": [
        "number = input('Enter a number: ')\n",
        "\n",
        "try:\n",
        "    number = float(number)\n",
        "    print('Your number is', number)\n",
        "except:\n",
        "    print('That is not a number')"
      ]
    },
    {
      "cell_type": "markdown",
      "metadata": {
        "id": "_h3P-_z9X3MF"
      },
      "source": [
        "8. Create a Pyplot scatterplot with average precipitation on the X axis and average temperature on the Y axis. Lable the axes appropriately, including the units (mm for precipitation and degrees C for temperature)."
      ]
    },
    {
      "cell_type": "code",
      "execution_count": 1,
      "metadata": {
        "id": "pe8ZdDx4Yiye"
      },
      "outputs": [
        {
          "data": {
            "text/plain": [
              "Text(0, 0.5, 'average temperature (˚C)')"
            ]
          },
          "execution_count": 1,
          "metadata": {},
          "output_type": "execute_result"
        },
        {
          "data": {
            "image/png": "[encoded data removed]",
            "text/plain": [
              "<Figure size 500x500 with 1 Axes>"
            ]
          },
          "metadata": {},
          "output_type": "display_data"
        }
      ],
      "source": [
        "import pandas as pd\n",
        "import matplotlib.pyplot as plt\n",
        "climate = pd.read_csv('https://github.com/HeardLibrary/digital-scholarship/raw/master/data/codegraf/mesa_climate.csv')\n",
        "climate = climate.set_index('month')\n",
        "\n",
        "fig = plt.figure(figsize=(5,5))\n",
        "ax = fig.add_subplot(1, 1, 1)\n",
        "ax.scatter(climate['ppt'], climate['tavg'], color='r')\n",
        "\n",
        "# set labels for subplot axes\n",
        "ax.set_xlabel('average precipitation (mm)')\n",
        "ax.set_ylabel('average temperature (˚C)')"
      ]
    },
    {
      "cell_type": "markdown",
      "metadata": {
        "id": "Y7HHoASGYkCF"
      },
      "source": [
        "9. Create another scatterplot using the same variables as above, but add a first order polynomial best fit line (trendline) to the graph. Make the scatterplot markers and trendline different colors and make sure your axes are labeled."
      ]
    },
    {
      "cell_type": "code",
      "execution_count": 8,
      "metadata": {
        "id": "fOD7qMcEY8Nk"
      },
      "outputs": [
        {
          "data": {
            "text/plain": [
              "[<matplotlib.lines.Line2D at 0x127c58dc0>]"
            ]
          },
          "execution_count": 8,
          "metadata": {},
          "output_type": "execute_result"
        },
        {
          "data": {
            "image/png": "[encoded data removed]",
            "text/plain": [
              "<Figure size 500x500 with 1 Axes>"
            ]
          },
          "metadata": {},
          "output_type": "display_data"
        }
      ],
      "source": [
        "import numpy as np\n",
        "fig = plt.figure(figsize=(5,5))\n",
        "ax = fig.add_subplot(1, 1, 1)\n",
        "ax.scatter(climate['ppt'], climate['tavg'], color='r')\n",
        "\n",
        "# set labels for subplot axes\n",
        "ax.set_xlabel('average precipitation (mm)')\n",
        "ax.set_ylabel('average temperature (˚C)')\n",
        "\n",
        "# add a first order trend line\n",
        "m, b = np.polyfit(climate['ppt'], climate['tavg'], 1)\n",
        "ax.plot(climate['ppt'], m*climate['ppt'] + b, \"b--\")\n"
      ]
    },
    {
      "cell_type": "markdown",
      "metadata": {
        "id": "NW4_StRDY87i"
      },
      "source": [
        "10. Create a bar chart with the month abbreviation on the X axis and the average precipitation on the Y axis. Label your axes appropriately."
      ]
    },
    {
      "cell_type": "code",
      "execution_count": 10,
      "metadata": {
        "id": "z1559bdhZKux"
      },
      "outputs": [
        {
          "data": {
            "image/png": "[encoded data removed]",
            "text/plain": [
              "<Figure size 640x480 with 1 Axes>"
            ]
          },
          "metadata": {},
          "output_type": "display_data"
        }
      ],
      "source": [
        "import matplotlib.pyplot as plt\n",
        "\n",
        "# Extract the month abbreviations and average precipitation values\n",
        "months = climate.index\n",
        "precipitation = climate['ppt']\n",
        "\n",
        "# Create the bar chart\n",
        "plt.bar(months, precipitation)\n",
        "\n",
        "# Set the labels for the x-axis and y-axis\n",
        "plt.xlabel('Month')\n",
        "plt.ylabel('Average Precipitation (mm)')\n",
        "\n",
        "# Show the plot\n",
        "plt.show()\n"
      ]
    }
  ],
  "metadata": {
    "colab": {
      "provenance": []
    },
    "kernelspec": {
      "display_name": "Python 3",
      "name": "python3"
    },
    "language_info": {
      "codemirror_mode": {
        "name": "ipython",
        "version": 3
      },
      "file_extension": ".py",
      "mimetype": "text/x-python",
      "name": "python",
      "nbconvert_exporter": "python",
      "pygments_lexer": "ipython3",
      "version": "3.9.6"
    }
  },
  "nbformat": 4,
  "nbformat_minor": 0
}
