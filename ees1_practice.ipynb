{
  "cells": [
    {
      "cell_type": "markdown",
      "metadata": {
        "id": "oHKKTWY6euiY"
      },
      "source": [
        "# Python Lesson 1 Practice assignment\n",
        "\n",
        "## General instructions\n",
        "\n",
        "In each of the scripts that you write, for each variable in the script use a meaningful name that follows the [PEP 8 style](https://www.python.org/dev/peps/pep-0008/) (“snake_case”).\n"
      ]
    },
    {
      "cell_type": "markdown",
      "metadata": {
        "id": "ajyUWgdudns3"
      },
      "source": [
        "1. Assign a string to a variable, then print the length of the string."
      ]
    },
    {
      "cell_type": "code",
      "execution_count": 1,
      "metadata": {
        "id": "OSkQkUb7cp9V"
      },
      "outputs": [
        {
          "name": "stdout",
          "output_type": "stream",
          "text": [
            "13\n"
          ]
        }
      ],
      "source": [
        "my_string = \"Hello, World!\"\n",
        "print(len(my_string))"
      ]
    },
    {
      "cell_type": "markdown",
      "metadata": {
        "id": "yDLcMe82d_tQ"
      },
      "source": [
        "2. Task: create code that allows the user to input two numbers, then prints the difference between them. Don’t forget that the `input()` function produces a string that must be turned into a number before subtracting. Write this script two ways: In the first cell, the input strings should be assigned to variables, then converted into numbers using separate statements. In the second cell, the number conversion should be done directly on the output of the `input()` function by nesting the two functions."
      ]
    },
    {
      "cell_type": "code",
      "execution_count": 2,
      "metadata": {
        "id": "cOIo_RUber60"
      },
      "outputs": [
        {
          "name": "stdout",
          "output_type": "stream",
          "text": [
            "The difference is: 2\n"
          ]
        }
      ],
      "source": [
        "number_one = input(\"Enter a number: \")\n",
        "number_two = input(\"Enter another number: \")\n",
        "difference = int(number_one) - int(number_two)\n",
        "print(\"The difference is: \" + str(difference))"
      ]
    },
    {
      "cell_type": "code",
      "execution_count": 3,
      "metadata": {
        "id": "63iUovqDgPUL"
      },
      "outputs": [
        {
          "name": "stdout",
          "output_type": "stream",
          "text": [
            "The difference is: 2\n"
          ]
        }
      ],
      "source": [
        "number_one = int(input(\"Enter a number: \"))\n",
        "number_two = int(input(\"Enter another number: \"))\n",
        "difference = number_one - number_two\n",
        "print(\"The difference is: \" + str(difference))"
      ]
    },
    {
      "cell_type": "markdown",
      "metadata": {
        "id": "M-a1NodJes9l"
      },
      "source": [
        "3. Create a code cell where the user enters a string. The script concatenates ‘Simon says: ‘ to the front of their string and prints the result for the user. Use a prompt that would be appropriate for a kid's game as an argument for the `input()` function."
      ]
    },
    {
      "cell_type": "code",
      "execution_count": 5,
      "metadata": {
        "id": "NEd1btJQlD5C"
      },
      "outputs": [
        {
          "name": "stdout",
          "output_type": "stream",
          "text": [
            "Simon says: touch your toes\n"
          ]
        }
      ],
      "source": [
        "simon_says = input(\"Enter a command for someone else to copy: \")\n",
        "print('Simon says: ' + simon_says)"
      ]
    },
    {
      "cell_type": "markdown",
      "metadata": {
        "id": "wvtrWES-lF72"
      },
      "source": [
        "4. Explain what is wrong with the following code. If necessary, use the variable explorer to help you figure it out."
      ]
    },
    {
      "cell_type": "code",
      "execution_count": 8,
      "metadata": {
        "id": "HPDE-sx4mCaU"
      },
      "outputs": [
        {
          "name": "stdout",
          "output_type": "stream",
          "text": [
            "Your number doubled is: 22\n"
          ]
        }
      ],
      "source": [
        "user_number = input('Give me a number: ')\n",
        "doubled_number = user_number * 2\n",
        "print('Your number doubled is:', doubled_number)"
      ]
    },
    {
      "cell_type": "markdown",
      "metadata": {
        "id": "MqqSnqxMmquO"
      },
      "source": [
        "Answer here: Even though the user may input an integer, the input variable is always a string unless it is changed to a different type. Therefore, the characters in the input string are doubled, rather than the number itself.\n",
        "\n",
        "Fix the code in the following cell"
      ]
    },
    {
      "cell_type": "code",
      "execution_count": 9,
      "metadata": {
        "id": "W7vWrCCrm0wo"
      },
      "outputs": [
        {
          "name": "stdout",
          "output_type": "stream",
          "text": [
            "Your number doubled is: 4\n"
          ]
        }
      ],
      "source": [
        "user_number = int(input('Give me a number: '))\n",
        "doubled_number = user_number * 2\n",
        "print('Your number doubled is:', doubled_number)"
      ]
    },
    {
      "cell_type": "markdown",
      "metadata": {
        "id": "hYchRXrwm9x2"
      },
      "source": [
        "5. Create a number guessing game. Set the value of the secret number using an assignment statement. Then let the user enter a number. Print two feedback statements. The first one should tell the user whether the guess was correct (True or False). The second print statement should tell the user whether the guess was too high (True or False). The user will need to re-run the cell with each guess."
      ]
    },
    {
      "cell_type": "code",
      "execution_count": 13,
      "metadata": {
        "id": "or1R00Z0nAtO"
      },
      "outputs": [
        {
          "name": "stdout",
          "output_type": "stream",
          "text": [
            "You guessed it!\n"
          ]
        }
      ],
      "source": [
        "secret_number = 7\n",
        "user_number = int(input('Enter a number to try to guess the secret number: '))\n",
        "if user_number == secret_number:\n",
        "    print('You guessed it!')\n",
        "else:\n",
        "    if user_number > secret_number:\n",
        "        print('Too high!')\n",
        "    else:\n",
        "        print('Too low!')"
      ]
    }
  ],
  "metadata": {
    "colab": {
      "provenance": []
    },
    "kernelspec": {
      "display_name": "Python 3",
      "name": "python3"
    },
    "language_info": {
      "codemirror_mode": {
        "name": "ipython",
        "version": 3
      },
      "file_extension": ".py",
      "mimetype": "text/x-python",
      "name": "python",
      "nbconvert_exporter": "python",
      "pygments_lexer": "ipython3",
      "version": "3.9.6"
    }
  },
  "nbformat": 4,
  "nbformat_minor": 0
}
