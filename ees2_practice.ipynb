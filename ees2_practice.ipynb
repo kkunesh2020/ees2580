{
  "cells": [
    {
      "cell_type": "markdown",
      "metadata": {
        "id": "IUYHSwatZre0"
      },
      "source": [
        "# Python Lesson 2 Practice assignment\n"
      ]
    },
    {
      "cell_type": "markdown",
      "metadata": {
        "id": "lEhFDxa-Z3i1"
      },
      "source": [
        "1. Import the value of `pi` from the math module so that you don't have to specify the module name when you want to use the value. . Write a script to calculate the circumference of a circle with a diameter of 3. If you don't remember how to calculate circumference, Google it."
      ]
    },
    {
      "cell_type": "code",
      "execution_count": 6,
      "metadata": {
        "id": "zMKtKhCSZOYi"
      },
      "outputs": [
        {
          "data": {
            "text/plain": [
              "9.42477796076938"
            ]
          },
          "execution_count": 6,
          "metadata": {},
          "output_type": "execute_result"
        }
      ],
      "source": [
        "from math import pi\n",
        "diameter = 3\n",
        "radius = diameter/2\n",
        "circumference = 2*pi*radius\n",
        "circumference"
      ]
    },
    {
      "cell_type": "markdown",
      "metadata": {
        "id": "skYsCZYpaPwY"
      },
      "source": [
        "2. Modify the previous script to allow the user to input their own diameter. Don't forget that the `input()` function returns strings, not numbers."
      ]
    },
    {
      "cell_type": "code",
      "execution_count": 7,
      "metadata": {
        "id": "6xfGuuv_aStb"
      },
      "outputs": [
        {
          "data": {
            "text/plain": [
              "18.84955592153876"
            ]
          },
          "execution_count": 7,
          "metadata": {},
          "output_type": "execute_result"
        }
      ],
      "source": [
        "from math import pi\n",
        "diameter = input(\"Enter the diameter of the circle: \")\n",
        "radius = int(diameter)/2\n",
        "circumference = 2*pi*radius\n",
        "circumference"
      ]
    },
    {
      "cell_type": "markdown",
      "metadata": {
        "id": "BHKDQqoUaZSt"
      },
      "source": [
        "3. When describing angles, Python measures angles in radians, where 180 degrees = pi radian. That is, divide the angle in degrees by 180, then multiply by pi. Import the `cos()` function from the math module so that you don't have to specify the module name when you want to use the function. Since most people aren't familiar with radians, write a script that will allow a user to input an angle in degrees, convert the degrees to radians, then calculate the cosine of the input angle. Test your script with 45 degrees, whose cosine is 0.70710678118 ."
      ]
    },
    {
      "cell_type": "code",
      "execution_count": 8,
      "metadata": {
        "id": "cm7nfKWqazG2"
      },
      "outputs": [
        {
          "data": {
            "text/plain": [
              "-1.0"
            ]
          },
          "execution_count": 8,
          "metadata": {},
          "output_type": "execute_result"
        }
      ],
      "source": [
        "from math import cos\n",
        "degrees = input(\"Enter the angle in degrees: \")\n",
        "radians = int(degrees)*pi/180\n",
        "cos(radians)"
      ]
    },
    {
      "cell_type": "markdown",
      "metadata": {
        "id": "h33-p1sqbYCC"
      },
      "source": [
        "4. Rewrite the previous script, but this time import the `radians()` function from the `math` module and nest it inside the `cos()` function to do the conversion."
      ]
    },
    {
      "cell_type": "code",
      "execution_count": 4,
      "metadata": {
        "id": "e6LTAZUucDZQ"
      },
      "outputs": [
        {
          "data": {
            "text/plain": [
              "-1.0"
            ]
          },
          "execution_count": 4,
          "metadata": {},
          "output_type": "execute_result"
        }
      ],
      "source": [
        "from math import cos, radians\n",
        "degrees = int(input(\"Enter the angle in degrees: \"))\n",
        "cos(radians(degrees))"
      ]
    },
    {
      "cell_type": "markdown",
      "metadata": {
        "id": "bMtFUDDEcEFF"
      },
      "source": [
        "5. **Case insensitivity**. It is often useful to check a user's input without concern for capitalization. The easiest way to do that is to convert what the user entered into all lower case, then check for equivalence with an all lower-case string. Write a script that lets the user input a string, then print the boolean result for comparing whether their string was equal to the string `sister` with any kind of capitalization."
      ]
    },
    {
      "cell_type": "code",
      "execution_count": 3,
      "metadata": {
        "id": "dHUBsIZScVqj"
      },
      "outputs": [
        {
          "name": "stdout",
          "output_type": "stream",
          "text": [
            "True\n"
          ]
        }
      ],
      "source": [
        "phrase = input(\"Enter a word or phrase: \")\n",
        "input_lower = phrase.lower()\n",
        "print(input_lower == 'sister')"
      ]
    },
    {
      "cell_type": "markdown",
      "metadata": {
        "id": "nmtkAciicXlA"
      },
      "source": [
        "6. The `time()` funtion (no arguments) from the `time` module gives the number of seconds since the midnight before January 1, 1970. Determine how long it takes the user to enter something (or just press the `Enter`/`return` key) by finding the difference in time from before the input statement and after it. (Hint: \"save\" the starting and ending times by assigning them to variables.) You can turn this into a reaction time tester by having one person click the run button and another person press the `Enter` key as soon as they see or hear the first person click the run icon. You can also see how long it takes Python to execute a code block by putting your two `time` assignment statements at the beginning and end of a code block."
      ]
    },
    {
      "cell_type": "code",
      "execution_count": 4,
      "metadata": {
        "id": "T_AF2trydJat"
      },
      "outputs": [
        {
          "name": "stdout",
          "output_type": "stream",
          "text": [
            "1.4159553050994873\n"
          ]
        }
      ],
      "source": [
        "import time\n",
        "start_time = time.time()\n",
        "enter = input(\"Enter something: \")\n",
        "end_time = time.time()\n",
        "time_taken = end_time - start_time\n",
        "print(time_taken)"
      ]
    },
    {
      "cell_type": "markdown",
      "metadata": {},
      "source": [
        "7. Assign a URL (including the `http://` or `https://` part) to a variable, then use the `.split()` method to break the URL into pieces based on the position of `/` characters. Note: select and copy a URL from the URL bar of a browser to get the full URL. What is the index number for the list item that contains the domain name (e.g. `vanderbilt.edu` or `calendar.google.com`)? Write your answer as a comment in your code. Write an expression for the domain name, and print it."
      ]
    },
    {
      "cell_type": "code",
      "execution_count": 7,
      "metadata": {},
      "outputs": [
        {
          "name": "stdout",
          "output_type": "stream",
          "text": [
            "www.library.vanderbilt.edu\n"
          ]
        }
      ],
      "source": [
        "url = 'https://www.library.vanderbilt.edu'\n",
        "url_parts = url.split('/')\n",
        "# the index number of the domain name is 2,\n",
        "# because the first part of the URL before the first / is 'https:',\n",
        "# the second part is '' because it is between the two /,\n",
        "# and the third part is after the second /, so 'www.library.vanderbilt.edu'\n",
        "print(url_parts[2])"
      ]
    },
    {
      "cell_type": "markdown",
      "metadata": {},
      "source": [
        "8. If you have a domain name like `vanderbilt.edu`, `www.library.vanderbilt.edu`, or `calendar.google.com`, how can you determine how many parts it has that are separated by periods (dots)? (Hint: first split it into a list.) In the code cell, use a general expression for the last part of any domain name (`com`, `edu`, `org`, etc.) to print that last part for a domain name input by the user. \n",
        "\n",
        "Edit this cell and write your answer to the question here:\n",
        "\n",
        "\n",
        "Put the code you write in the following cell."
      ]
    },
    {
      "cell_type": "code",
      "execution_count": 10,
      "metadata": {},
      "outputs": [],
      "source": [
        "# You can determine the parts by splitting it by periods, then getting the length of the list"
      ]
    },
    {
      "cell_type": "markdown",
      "metadata": {},
      "source": [
        "9. Write a script that instantiates the fruit basket list, allows a user to type in a fruit, then add the fruit they typed in to the end of the list."
      ]
    },
    {
      "cell_type": "code",
      "execution_count": 14,
      "metadata": {},
      "outputs": [
        {
          "name": "stdout",
          "output_type": "stream",
          "text": [
            "['apple', 'banana', 'orange', 'grape']\n"
          ]
        }
      ],
      "source": [
        "fruit_basket = ['apple', 'banana', 'orange']\n",
        "fruit = input(\"Enter a fruit: \")\n",
        "fruit_basket.append(fruit)\n",
        "print(fruit_basket)"
      ]
    },
    {
      "cell_type": "markdown",
      "metadata": {},
      "source": [
        "10. Modify the previous script to pick a random fruit from the list, remove it from the list, tell the user that they can’t have that fruit, then print the new list without the fruit you removed."
      ]
    },
    {
      "cell_type": "code",
      "execution_count": 23,
      "metadata": {},
      "outputs": [
        {
          "name": "stdout",
          "output_type": "stream",
          "text": [
            "You cant have a banana\n",
            "['apple', 'orange']\n"
          ]
        }
      ],
      "source": [
        "import random\n",
        "fruit_basket = ['apple', 'banana', 'orange']\n",
        "fruit = random.choice(fruit_basket)\n",
        "fruit_basket.remove(fruit)\n",
        "print(\"You cant have a\", fruit)\n",
        "print(fruit_basket)\n"
      ]
    },
    {
      "cell_type": "markdown",
      "metadata": {},
      "source": [
        "11. The file [mesa_prcp_by_month.](https://github.com/HeardLibrary/digital-scholarship/blob/master/data/codegraf/mesa_prcp_by_month.txt) contains the average precipitation by month in mm for Mesa, Arizona, with each value on a separate line terminated by a newline character. Use the `get()` function from the requests module to retrieve the data and extract the text into a variable containing a single text string. Split the string by newline (`\\n`) characters into a list that contains each value. Non-rhetorical question: Can you use the `max()` function to determine the number in the list? If so, do it in your script. If not, explain why in a comment in the script. The URL to access the data is in the starter code below."
      ]
    },
    {
      "cell_type": "code",
      "execution_count": 3,
      "metadata": {},
      "outputs": [
        {
          "name": "stdout",
          "output_type": "stream",
          "text": [
            "['23.7', '22.3', '22.6', '8.6', '3.8', '2.1', '23.8', '29.2', '20.5', '14.2', '16.6', '25.5']\n",
            "8.6\n"
          ]
        }
      ],
      "source": [
        "import requests\n",
        "url = 'https://raw.githubusercontent.com/HeardLibrary/digital-scholarship/master/data/codegraf/mesa_prcp_by_month.txt'\n",
        "reply = requests.get(url)\n",
        "file_text = reply.text\n",
        "text_list = file_text.split('\\n')\n",
        "print(text_list)\n",
        "\n",
        "# No, you cannot use max for this because all the values are strings, not integers."
      ]
    }
  ],
  "metadata": {
    "colab": {
      "provenance": []
    },
    "kernelspec": {
      "display_name": "Python 3",
      "name": "python3"
    },
    "language_info": {
      "codemirror_mode": {
        "name": "ipython",
        "version": 3
      },
      "file_extension": ".py",
      "mimetype": "text/x-python",
      "name": "python",
      "nbconvert_exporter": "python",
      "pygments_lexer": "ipython3",
      "version": "3.9.6"
    }
  },
  "nbformat": 4,
  "nbformat_minor": 0
}
